{
 "cells": [
  {
   "cell_type": "markdown",
   "id": "3a070f49-ce69-4529-a744-09661c2c4cda",
   "metadata": {},
   "source": [
    "https://arxiv.org/pdf/1610.05708"
   ]
  },
  {
   "cell_type": "markdown",
   "id": "b9f290fc-cdf3-40f2-b491-5e380e433ef0",
   "metadata": {},
   "source": [
    "$$f(x) = \\frac{1}{4}\\|Ex\\|_2^2+\\frac{1}{4}\\|Ax-b\\|_4^4 + \\frac{1}{2}\\|Cx-d\\|_2^2$$"
   ]
  },
  {
   "cell_type": "markdown",
   "id": "993b041f-48a6-4529-90b4-a6b64bde2888",
   "metadata": {},
   "source": [
    "is relatively smooth and strongly convex with \n",
    "\n",
    "$$h(x) = \\frac{1}{4}\\|x\\|_2^4+\\frac{1}{2}\\|x\\|_2^2$$"
   ]
  },
  {
   "cell_type": "markdown",
   "id": "f8de2ed3-af88-4f6b-9b1e-1f50a68d4499",
   "metadata": {},
   "source": [
    "Is \n",
    "\n",
    "$$f_1(x,y) = f(x)-f(y)+x^\\top By$$"
   ]
  },
  {
   "cell_type": "markdown",
   "id": "f53a7ac3-2d19-4da9-a3b0-b137f4ea570d",
   "metadata": {},
   "source": [
    "relative strongly monotone  \n",
    "\n",
    "$$h_1(x,y) = h(x)-h(y)?$$"
   ]
  },
  {
   "cell_type": "markdown",
   "id": "4ce7bf0b-17d6-4ae8-803f-942a19f7bdf6",
   "metadata": {},
   "source": [
    "Then $$\\nabla^2 f(x) = \\|Ex\\|_2^2E^\\top E+2E^\\top E xx^\\top E^\\top E+3A^\\top D(x)^2 A+C^\\top C;D(x) = Diag(Ax-b)$$"
   ]
  },
  {
   "cell_type": "markdown",
   "id": "63826d44-f39a-44d9-b728-c482bc716920",
   "metadata": {},
   "source": [
    "we have $$L \\nabla^2 h(x) \\succeq \\nabla^2 f(x) \\succeq \n",
    "\\mu \\nabla^2 h(x)$$"
   ]
  },
  {
   "cell_type": "markdown",
   "id": "0a9a502b-8537-4d0d-9506-dfbf32b2294c",
   "metadata": {},
   "source": [
    "Thus we also have,\n",
    "\n",
    "$$ -L \\nabla^2 h(y) \\preceq -\\nabla^2 f(y) \\preceq -\\mu \\nabla^2 h(y)$$"
   ]
  },
  {
   "cell_type": "markdown",
   "id": "478c4cd0-00fd-42dc-bb8e-08c84c546d04",
   "metadata": {},
   "source": [
    "Now we have,\n",
    "\n",
    "\n",
    "$$ \\frac{\\nabla F(x,y)+\\nabla F(x,y)^\\top}{2} = \\begin{bmatrix} \\nabla^2 f(x) & 0\\\\ 0 & -\\nabla^2f(y)\\end{bmatrix}$$\n",
    "\n",
    "$$ \\frac{\\nabla H(x,y)+\\nabla H(x,y)^\\top}{2} = \\begin{bmatrix} \\nabla^2 h(x) & 0\\\\ 0 & -\\nabla^2h(y)\\end{bmatrix}$$\n",
    "\n",
    "where $$F(x,y) = (\\nabla f(x),-\\nabla f(y))~and~H(x,y) = (\\nabla h(x),-\\nabla h(y)).$$\n",
    "\n",
    "$$ \\frac{\\nabla F(x,y)+\\nabla F(x,y)^\\top}{2} - \\mu\\frac{\\nabla H(x,y)+\\nabla H(x,y)^\\top}{2} = \\begin{bmatrix} \\nabla^2 f(x)-\\mu\\nabla^2 h(y) & 0\\\\ 0 & \\mu\\nabla^2 h(y)-\\nabla^2f(y)\\end{bmatrix}$$\n",
    "\n",
    "since diagonal blocks are PSD and NSD we have that $F$ is $\\mu$-strongly monotone with respect to $H$. \n",
    "\n",
    "Similarly we find that $F$ is $L$ relatively smooth with respect to $H$. By observation a bilinear term $x^\\top A y$ can also be added."
   ]
  },
  {
   "cell_type": "markdown",
   "id": "778c5ae4-f248-418c-a3f3-91ad56d731ae",
   "metadata": {},
   "source": [
    "$$z_{k+\\frac{1}{2}} = z' \\ \\textrm{s.t.,}\\ $$\n",
    "        $$\\langle{F(z_k)+L(H(z')-H(z_k)),z'-z\\rangle}\\leq 0~ \\forall z$$ \n",
    "        $$z_{k+1} = z' \\ \\textrm{s.t.,}\\ $$\n",
    "        $$\\langle F(z_{k+\\frac{1}{2}})+L(H(z')-H(z_k))+m(H(z')-H(z_{k+\\frac{1}{2}})),z'-z \\rangle\\leq 0~ \\forall z$$  \n"
   ]
  },
  {
   "cell_type": "markdown",
   "id": "d778ef46-df2c-430d-8034-e1d8a07511ba",
   "metadata": {},
   "source": [
    "We have, $$H(x,y) = ((\\|x\\|^2x+x),-(\\|y\\|^2y+y)) $$ and $$F(x,y) = ((\\|Ex\\|^2E^\\top Ex+A^\\top[(Ax-b)_i^3]_{i=1}^n)+(Cx-d)+By,-(\\|Ey\\|^2E^\\top Ey+A^\\top[(Ay-b)_i^3]_{i=1}^n)+(Cy-d)+B^\\top x)$$.\n",
    "\n",
    "First do mirror prox on : $$F(z_k)+L(H(z')-H(z_k)) = O_k(z')$$ output $$z_{k+\\frac{1}{2}}$$ and do mirror prox on,\n",
    "\n",
    "$$F(z_{k+\\frac{1}{2}})+L(H(z')-H(z_k))+m(H(z')-H(z_{k+\\frac{1}{2}})) = O_{k+\\frac{1}{2}}(z')$$"
   ]
  },
  {
   "cell_type": "code",
   "execution_count": 3,
   "id": "5b13551b-f440-421c-81bc-f7f31158e47d",
   "metadata": {},
   "outputs": [],
   "source": [
    "import numpy as np\n",
    "import matplotlib.pyplot as plt\n",
    "matrixSize = 1\n",
    "\n",
    "L = 100\n",
    "m = 0.1\n",
    "\n",
    "E = np.random.rand(matrixSize, matrixSize)\n",
    "E = np.dot(E, E.transpose())\n",
    "\n",
    "C = np.random.rand(matrixSize, matrixSize)\n",
    "C = np.dot(C, C.transpose())\n",
    "\n",
    "B = np.random.rand(matrixSize, matrixSize)\n",
    "\n",
    "A = np.random.rand(matrixSize, matrixSize)\n",
    "\n",
    "b = np.random.rand(matrixSize,1)\n",
    "d = np.random.rand(matrixSize,1)\n",
    "z = np.random.rand(2*matrixSize,1)\n",
    "\n",
    "\n",
    "def mirrorfreeMP(z_0,z_00):\n",
    "    \n",
    "    for i in range(3):\n",
    "        \n",
    "        z_12 = MP1(z_00, z_0)\n",
    "        print(i)\n",
    "        z_00 = MP2(z_00, z_12, z_0)\n",
    "        \n",
    "    return(z_00)\n",
    "\n",
    "def MP1(z_k,z_0):\n",
    "    \n",
    "    z_0l = []\n",
    "    for i in range(3):\n",
    "        \n",
    "        z_half = z_0 - oracleOk(z_0,z_k)/L\n",
    "        print('z0',z_0,'zh',z_half,'oracle',oracleOk(z_half,z_k)/L)\n",
    "        z_0 = z_half - oracleOk(z_half,z_k)/L\n",
    "        print('z0',z_0,'zh',z_half,'oracle',oracleOk(z_half,z_k)/L)\n",
    "        z_0l.append(z_0[0])\n",
    "        \n",
    "    plt.plot(z_0l)\n",
    "    \n",
    "    return z_0\n",
    "\n",
    "def MP2(z_k,z_half,z_0):\n",
    "    \n",
    "    for i in range(3):\n",
    "        \n",
    "        z_half = z_0 - oracleOk12(z_0,z_half,z_k)/L\n",
    "        z_0 = z_half - oracleOk12(z_0,z_half,z_k)/L\n",
    "        \n",
    "    return z_0\n",
    "    \n",
    "def oracleOk(zp,zk):\n",
    "    \n",
    "    return(oracleF(zk)+L*(oracleH(zp)-oracleH(zk)))\n",
    "\n",
    "def oracleOk12(zp,zk12,zk):\n",
    "    \n",
    "    return(oracleF(zk12)+L*(oracleH(zp)-oracleH(zk))+m*(oracleH(zp)-oracleH(zk12)))\n",
    "    \n",
    "def oracleF(z):\n",
    "    \n",
    "    (x,y) = (z[:matrixSize],z[matrixSize:])\n",
    "    gx =  (np.linalg.norm(np.dot(E,x))**2*(np.dot(E,np.dot(E,x)))+np.dot(A,(np.dot(A,x)-b)**3)+np.dot(C,x)-d) + np.dot(B,y)\n",
    "    gy = -(np.linalg.norm(np.dot(E,y))**2*(np.dot(E,np.dot(E,y)))+np.dot(A,(np.dot(A,y)-b)**3)+np.dot(C,y)-d) + np.dot(B.T,x)\n",
    "    \n",
    "    return(np.concatenate([gx,gy]))\n",
    "\n",
    "def oracleH(z):\n",
    "    \n",
    "    (x,y) = (z[:matrixSize],z[matrixSize:])\n",
    "    gx = np.linalg.norm(x)**2*x+x\n",
    "    gy = -np.linalg.norm(y)**2*y-y\n",
    "    \n",
    "    return(np.concatenate([gx,gy]))"
   ]
  },
  {
   "cell_type": "code",
   "execution_count": 4,
   "id": "5a9f8f21-c54c-4a1b-bb7a-db89738597be",
   "metadata": {
    "scrolled": true
   },
   "outputs": [
    {
     "name": "stdout",
     "output_type": "stream",
     "text": [
      "z0 [[0.]\n",
      " [0.]] zh [[ 0.00256105]\n",
      " [-0.00256105]] oracle [[1.67978633e-08]\n",
      " [5.12211628e-03]]\n",
      "z0 [[ 0.00256103]\n",
      " [-0.00768317]] zh [[ 0.00256105]\n",
      " [-0.00256105]] oracle [[1.67978633e-08]\n",
      " [5.12211628e-03]]\n",
      "z0 [[ 0.00256103]\n",
      " [-0.00768317]] zh [[ 0.00256103]\n",
      " [-0.01792784]] oracle [[6.66133815e-18]\n",
      " [2.04946472e-02]]\n",
      "z0 [[ 0.00256103]\n",
      " [-0.03842248]] zh [[ 0.00256103]\n",
      " [-0.01792784]] oracle [[6.66133815e-18]\n",
      " [2.04946472e-02]]\n",
      "z0 [[ 0.00256103]\n",
      " [-0.03842248]] zh [[ 0.00256103]\n",
      " [-0.07946274]] oracle [[0.        ]\n",
      " [0.08252554]]\n",
      "z0 [[ 0.00256103]\n",
      " [-0.16198828]] zh [[ 0.00256103]\n",
      " [-0.07946274]] oracle [[0.        ]\n",
      " [0.08252554]]\n",
      "0\n",
      "z0 [[0.]\n",
      " [0.]] zh [[0.00907838]\n",
      " [0.07647817]] oracle [[ 7.48212973e-07]\n",
      " [-1.53403654e-01]]\n",
      "z0 [[0.00907763]\n",
      " [0.22988182]] zh [[0.00907838]\n",
      " [0.07647817]] oracle [[ 7.48212973e-07]\n",
      " [-1.53403654e-01]]\n",
      "z0 [[0.00907763]\n",
      " [0.22988182]] zh [[0.00907763]\n",
      " [0.54839007]] oracle [[ 4.57284210e-14]\n",
      " [-7.89786506e-01]]\n",
      "z0 [[0.00907763]\n",
      " [1.33817658]] zh [[0.00907763]\n",
      " [0.54839007]] oracle [[ 4.57284210e-14]\n",
      " [-7.89786506e-01]]\n",
      "z0 [[0.00907763]\n",
      " [1.33817658]] zh [[0.00907763]\n",
      " [5.14912628]] oracle [[-5.55111512e-19]\n",
      " [-1.41746971e+02]]\n",
      "z0 [[9.07763310e-03]\n",
      " [1.46896098e+02]] zh [[0.00907763]\n",
      " [5.14912628]] oracle [[-5.55111512e-19]\n",
      " [-1.41746971e+02]]\n",
      "1\n",
      "z0 [[0.]\n",
      " [0.]] zh [[nan]\n",
      " [nan]] oracle [[nan]\n",
      " [nan]]\n",
      "z0 [[nan]\n",
      " [nan]] zh [[nan]\n",
      " [nan]] oracle [[nan]\n",
      " [nan]]\n",
      "z0 [[nan]\n",
      " [nan]] zh [[nan]\n",
      " [nan]] oracle [[nan]\n",
      " [nan]]\n",
      "z0 [[nan]\n",
      " [nan]] zh [[nan]\n",
      " [nan]] oracle [[nan]\n",
      " [nan]]\n",
      "z0 [[nan]\n",
      " [nan]] zh [[nan]\n",
      " [nan]] oracle [[nan]\n",
      " [nan]]\n",
      "z0 [[nan]\n",
      " [nan]] zh [[nan]\n",
      " [nan]] oracle [[nan]\n",
      " [nan]]\n",
      "2\n"
     ]
    },
    {
     "name": "stderr",
     "output_type": "stream",
     "text": [
      "/var/folders/49/567b8wxj313623dgh_lpvfg40000gn/T/ipykernel_41825/4214422894.py:69: RuntimeWarning: overflow encountered in multiply\n",
      "  gy = -(np.linalg.norm(np.dot(E,y))**2*(np.dot(E,np.dot(E,y)))+np.dot(A,(np.dot(A,y)-b)**3)+np.dot(C,y)-d) + np.dot(B.T,x)\n",
      "/var/folders/49/567b8wxj313623dgh_lpvfg40000gn/T/ipykernel_41825/4214422894.py:69: RuntimeWarning: overflow encountered in power\n",
      "  gy = -(np.linalg.norm(np.dot(E,y))**2*(np.dot(E,np.dot(E,y)))+np.dot(A,(np.dot(A,y)-b)**3)+np.dot(C,y)-d) + np.dot(B.T,x)\n",
      "/var/folders/49/567b8wxj313623dgh_lpvfg40000gn/T/ipykernel_41825/4214422894.py:77: RuntimeWarning: overflow encountered in multiply\n",
      "  gy = -np.linalg.norm(y)**2*y-y\n",
      "/var/folders/49/567b8wxj313623dgh_lpvfg40000gn/T/ipykernel_41825/4214422894.py:63: RuntimeWarning: invalid value encountered in add\n",
      "  return(oracleF(zk12)+L*(oracleH(zp)-oracleH(zk))+m*(oracleH(zp)-oracleH(zk12)))\n",
      "/var/folders/49/567b8wxj313623dgh_lpvfg40000gn/T/ipykernel_41825/4214422894.py:68: RuntimeWarning: overflow encountered in multiply\n",
      "  gx =  (np.linalg.norm(np.dot(E,x))**2*(np.dot(E,np.dot(E,x)))+np.dot(A,(np.dot(A,x)-b)**3)+np.dot(C,x)-d) + np.dot(B,y)\n",
      "/var/folders/49/567b8wxj313623dgh_lpvfg40000gn/T/ipykernel_41825/4214422894.py:68: RuntimeWarning: overflow encountered in power\n",
      "  gx =  (np.linalg.norm(np.dot(E,x))**2*(np.dot(E,np.dot(E,x)))+np.dot(A,(np.dot(A,x)-b)**3)+np.dot(C,x)-d) + np.dot(B,y)\n",
      "/var/folders/49/567b8wxj313623dgh_lpvfg40000gn/T/ipykernel_41825/4214422894.py:76: RuntimeWarning: overflow encountered in multiply\n",
      "  gx = np.linalg.norm(x)**2*x+x\n"
     ]
    },
    {
     "data": {
      "text/plain": [
       "array([[nan],\n",
       "       [nan]])"
      ]
     },
     "execution_count": 4,
     "metadata": {},
     "output_type": "execute_result"
    },
    {
     "data": {
      "image/png": "[encoded data removed]",
      "text/plain": [
       "<Figure size 640x480 with 1 Axes>"
      ]
     },
     "metadata": {},
     "output_type": "display_data"
    }
   ],
   "source": [
    "mirrorfreeMP(np.zeros((2*matrixSize,1)),np.zeros((2*matrixSize,1)))"
   ]
  }
 ],
 "metadata": {
  "kernelspec": {
   "display_name": "Python 3 (ipykernel)",
   "language": "python",
   "name": "python3"
  },
  "language_info": {
   "codemirror_mode": {
    "name": "ipython",
    "version": 3
   },
   "file_extension": ".py",
   "mimetype": "text/x-python",
   "name": "python",
   "nbconvert_exporter": "python",
   "pygments_lexer": "ipython3",
   "version": "3.9.6"
  }
 },
 "nbformat": 4,
 "nbformat_minor": 5
}
