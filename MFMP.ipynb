{
 "cells": [
  {
   "cell_type": "markdown",
   "id": "3a070f49-ce69-4529-a744-09661c2c4cda",
   "metadata": {},
   "source": [
    "https://arxiv.org/pdf/1610.05708"
   ]
  },
  {
   "cell_type": "markdown",
   "id": "b9f290fc-cdf3-40f2-b491-5e380e433ef0",
   "metadata": {},
   "source": [
    "$$f(x) = \\frac{1}{4}\\|Ex\\|_2^2+\\frac{1}{4}\\|Ax-b\\|_4^4 + \\frac{1}{2}\\|Cx-d\\|_2^2$$"
   ]
  },
  {
   "cell_type": "markdown",
   "id": "993b041f-48a6-4529-90b4-a6b64bde2888",
   "metadata": {},
   "source": [
    "is relatively smooth and strongly convex with \n",
    "\n",
    "$$h(x) = \\frac{1}{4}\\|x\\|_4^4+\\frac{1}{2}\\|x\\|_2^2$$"
   ]
  },
  {
   "cell_type": "markdown",
   "id": "f8de2ed3-af88-4f6b-9b1e-1f50a68d4499",
   "metadata": {},
   "source": [
    "Is \n",
    "\n",
    "$$f_1(x,y) = f(x)-f(y)$$"
   ]
  },
  {
   "cell_type": "markdown",
   "id": "f53a7ac3-2d19-4da9-a3b0-b137f4ea570d",
   "metadata": {},
   "source": [
    "relative strongly monotone  \n",
    "\n",
    "$$h_1(x,y) = h(x)-h(y)?$$"
   ]
  },
  {
   "cell_type": "markdown",
   "id": "4ce7bf0b-17d6-4ae8-803f-942a19f7bdf6",
   "metadata": {},
   "source": [
    "Then $$\\nabla^2 f(x) = \\|Ex\\|_2^2E^\\top E+2E^\\top E xx^\\top E^\\top E+3A^\\top D(x)^2 A+C^\\top C;D(x) = Diag(Ax-b)$$"
   ]
  },
  {
   "cell_type": "markdown",
   "id": "63826d44-f39a-44d9-b728-c482bc716920",
   "metadata": {},
   "source": [
    "we have $$L \\nabla^2 h(x) \\succeq \\nabla^2 f(x) \\succeq \n",
    "\\mu \\nabla^2 h(x)$$"
   ]
  },
  {
   "cell_type": "markdown",
   "id": "0a9a502b-8537-4d0d-9506-dfbf32b2294c",
   "metadata": {},
   "source": [
    "Thus we also have,\n",
    "\n",
    "$$ -L \\nabla^2 h(y) \\preceq -\\nabla^2 f(y) \\preceq -\\mu \\nabla^2 h(y)$$"
   ]
  },
  {
   "cell_type": "markdown",
   "id": "478c4cd0-00fd-42dc-bb8e-08c84c546d04",
   "metadata": {},
   "source": [
    "Now we have,\n",
    "\n",
    "\n",
    "$$ \\frac{\\nabla F(x,y)+\\nabla F(x,y)^\\top}{2} = \\begin{bmatrix} \\nabla^2 f(x) & 0\\\\ 0 & -\\nabla^2f(y)\\end{bmatrix}$$\n",
    "\n",
    "$$ \\frac{\\nabla H(x,y)+\\nabla H(x,y)^\\top}{2} = \\begin{bmatrix} \\nabla^2 h(x) & 0\\\\ 0 & -\\nabla^2h(y)\\end{bmatrix}$$\n",
    "\n",
    "where $$F(x,y) = (\\nabla f(x),-\\nabla f(y))~and~H(x,y) = (\\nabla h(x),-\\nabla h(y)).$$\n",
    "\n",
    "$$ \\frac{\\nabla F(x,y)+\\nabla F(x,y)^\\top}{2} - \\mu\\frac{\\nabla H(x,y)+\\nabla H(x,y)^\\top}{2} = \\begin{bmatrix} \\nabla^2 f(x)-\\mu\\nabla^2 h(y) & 0\\\\ 0 & \\mu\\nabla^2 h(y)-\\nabla^2f(y)\\end{bmatrix}$$\n",
    "\n",
    "since diagonal blocks are PSD and NSD we have that $F$ is $\\mu$-strongly monotone with respect to $H$. \n",
    "\n",
    "Similarly we find that $F$ is $L$ relatively smooth with respect to $H$. By observation a bilinear term $x^\\top A y$ can also be added."
   ]
  },
  {
   "cell_type": "markdown",
   "id": "778c5ae4-f248-418c-a3f3-91ad56d731ae",
   "metadata": {},
   "source": [
    "$$z_{k+\\frac{1}{2}} = z' \\ \\textrm{s.t.,}\\ $$\n",
    "        $$\\langle{F(z_k)+L(H(z')-H(z_k)),z'-z\\rangle}\\leq 0~ \\forall z$$ \n",
    "        $$z_{k+1} = z' \\ \\textrm{s.t.,}\\ $$\n",
    "        $$\\langle F(z_{k+\\frac{1}{2}})+L(H(z')-H(z_k))+m(H(z')-H(z_{k+\\frac{1}{2}})),z'-z \\rangle\\leq 0~ \\forall z$$  \n"
   ]
  },
  {
   "cell_type": "markdown",
   "id": "d778ef46-df2c-430d-8034-e1d8a07511ba",
   "metadata": {},
   "source": [
    "We have, $$H(x,y) = ((\\|x\\|^2x+x),-(\\|y\\|^2y+y)) $$ and $$F(x,y) = ((\\|Ex\\|^2E^\\top Ex+[A^\\top(Ax-b)_i^3]_{i=1}^n)+(Cx-d),-(\\|Ey\\|^2E^\\top Ey+[A^\\top(Ay-b)_i^3]_{i=1}^n)+(Cy-d))$$.\n",
    "\n",
    "First do mirror prox on : $$F(z_k)+L(H(z')-H(z_k)) = O_k(z')$$ output $$z_{k+\\frac{1}{2}}$$ and do mirror prox on,\n",
    "\n",
    "$$F(z_{k+\\frac{1}{2}})+L(H(z')-H(z_k))+m(H(z')-H(z_{k+\\frac{1}{2}})) = O_{k+\\frac{1}{2}}(z')$$"
   ]
  },
  {
   "cell_type": "code",
   "execution_count": null,
   "id": "5b13551b-f440-421c-81bc-f7f31158e47d",
   "metadata": {},
   "outputs": [],
   "source": [
    "def mirrorfreeMP(z_0):\n",
    "    \n",
    "    for i in range(100):\n",
    "        \n",
    "        z_12 = MP(z_0,oracle)\n",
    "        z_0 = MP(z_12,oracle)\n",
    "        \n",
    "    return(z_0)\n",
    "\n",
    "def MP(z_0,oracle):\n",
    "    for i in range(100):\n",
    "        z_half = z_0 - oracle(z_0)\n",
    "        z_0 = z_half-oracle(z_half)\n",
    "    return z_0\n",
    "\n",
    "def oracleOk(zp,zk):\n",
    "    \n",
    "\n",
    "def oracleOk12(zp,zk12,zk):\n",
    "\n",
    "    \n",
    "def oracleG(x,y):\n",
    "    gx = y\n",
    "    gy = x\n",
    "    return([gx,gy,gax,gay])\n",
    "\n",
    "def oracleF(x,y):\n",
    "    gx = y\n",
    "    gy = x\n",
    "    return([gx,gy,gax,gay])"
   ]
  }
 ],
 "metadata": {
  "kernelspec": {
   "display_name": "Python 3 (ipykernel)",
   "language": "python",
   "name": "python3"
  },
  "language_info": {
   "codemirror_mode": {
    "name": "ipython",
    "version": 3
   },
   "file_extension": ".py",
   "mimetype": "text/x-python",
   "name": "python",
   "nbconvert_exporter": "python",
   "pygments_lexer": "ipython3",
   "version": "3.9.6"
  }
 },
 "nbformat": 4,
 "nbformat_minor": 5
}
